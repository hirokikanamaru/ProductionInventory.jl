{
 "cells": [
  {
   "cell_type": "markdown",
   "metadata": {},
   "source": [
    "<font size=\"7\">9.7.7 Production Inventory Model\n",
    "\n",
    "<font size=\"4\">金丸博樹"
   ]
  },
  {
   "cell_type": "markdown",
   "metadata": {},
   "source": [
    "競争的な企業が、長期的な利潤を最大化する。\n",
    "\n",
    "企業は期首にsだけの期首製品を持っており、当期にqだけ生産、期末製品としてxだけ残す。\n",
    "企業はs+q-xを当期に価格pで販売し、価格pはマルコフ過程$p_{t+1} = h(p_t, \\epsilon_{t+1})$\n",
    "に従う。"
   ]
  },
  {
   "cell_type": "markdown",
   "metadata": {},
   "source": [
    "期首製品sと価格pが与えられたときに、q,xをどの値にするのが利潤を最大化するか？\n",
    "\n",
    "StateもActionも２変数の場合"
   ]
  },
  {
   "cell_type": "code",
   "execution_count": 138,
   "metadata": {},
   "outputs": [
    {
     "data": {
      "text/plain": [
       "Plots.PlotlyJSBackend()"
      ]
     },
     "execution_count": 138,
     "metadata": {},
     "output_type": "execute_result"
    }
   ],
   "source": [
    "using QuantEcon\n",
    "using BasisMatrices\n",
    "using Optim\n",
    "using Plots\n",
    "plotlyjs( )"
   ]
  },
  {
   "cell_type": "markdown",
   "metadata": {},
   "source": [
    "structの作成"
   ]
  },
  {
   "cell_type": "code",
   "execution_count": 139,
   "metadata": {
    "collapsed": true
   },
   "outputs": [],
   "source": [
    "struct ProductionInventory\n",
    "    c::Array{Float64}\n",
    "    k::Array{Float64}\n",
    "    pbar::Float64\n",
    "    rho::Float64\n",
    "    sigma::Float64\n",
    "    delta::Float64\n",
    "    spnodes::Array{Float64}\n",
    "end\n",
    "\n",
    "c=[0.5, 0.1];　#生産に関わる費用関数のパラメータ\n",
    "k=[0.1, 0.1];　#貯蔵に関わる費用関数のパラメータ\n",
    "pbar=1.0;　#長期均衡価格\n",
    "rho=0.5;　#価格を決めるパラメータ\n",
    "sigma=0.2;　#価格を決めるパラメータ\n",
    "delta=0.9;　#割引率"
   ]
  },
  {
   "cell_type": "markdown",
   "metadata": {},
   "source": [
    "s, pの範囲を指定。\n",
    "sをstate1, pをstate2として、二次元の補間を行う。\n",
    "\n",
    "その後、BasisMatricesで補間。"
   ]
  },
  {
   "cell_type": "code",
   "execution_count": 141,
   "metadata": {},
   "outputs": [
    {
     "data": {
      "text/plain": [
       "ProductionInventory([0.5, 0.1], [0.1, 0.1], 1.0, 0.5, 0.2, 0.9, [0.0 0.5; 0.0952381 0.5; … ; 1.90476 1.5; 2.0 1.5])"
      ]
     },
     "execution_count": 141,
     "metadata": {},
     "output_type": "execute_result"
    }
   ],
   "source": [
    "n = [10; 10]\n",
    "spmin = [0; 0.5]\n",
    "spmax = [2; 1.5]\n",
    "basis =  Basis(SplineParams(n[1]-2, spmin[1], spmax[1]), SplineParams(n[2]-2, spmin[2], spmax[2]))\n",
    "spnodes, (s_vec, p_vec) = nodes(basis)\n",
    "\n",
    "Φ = BasisMatrix(basis, Expanded(), spnodes, 0)\n",
    "initial_c = Φ.vals[1] \\ ones(size(Φ.vals[1])[1]);\n",
    "\n",
    "PI = ProductionInventory(c, k, pbar, rho, sigma, delta, spnodes)"
   ]
  },
  {
   "cell_type": "markdown",
   "metadata": {},
   "source": [
    "$normal(0, \\sigma^2)$\n",
    "をqnwnormを用いて離散化"
   ]
  },
  {
   "cell_type": "code",
   "execution_count": 70,
   "metadata": {},
   "outputs": [
    {
     "data": {
      "text/plain": [
       "([-1.27768, -0.606254, 0.0, 0.606254, 1.27768], [0.0112574, 0.222076, 0.533333, 0.222076, 0.0112574])"
      ]
     },
     "execution_count": 70,
     "metadata": {},
     "output_type": "execute_result"
    }
   ],
   "source": [
    "nshocks = 5\n",
    "mu = 0\n",
    "epsilon, weight = qnwnorm(nshocks, mu, sigma)"
   ]
  },
  {
   "cell_type": "markdown",
   "metadata": {},
   "source": [
    "ベルマン方程式を作る。\n",
    "\n",
    "ここで、データ構造は、Value functionが長さ10×10のベクトル, Policy functionが[q, x]の形の長さ2のArrayを成分に持つ、長さ10×10のベクトルである。\n",
    "\n",
    "生産の費用関数は、$c(q) = c_{1}q+0.5c_{2}q^2$\n",
    "\n",
    "貯蓄の費用関数は、$k(x) = k_{1}x+0.5k_{2}x^2$\n",
    "\n",
    "価格は、$p_{t+1} = pbar+\\rho(p_t-pbar)+\\epsilon$\n",
    "\n",
    "また、$s_{t+1} = x_t$"
   ]
  },
  {
   "cell_type": "code",
   "execution_count": 177,
   "metadata": {},
   "outputs": [
    {
     "data": {
      "text/plain": [
       "Array{Int64,2}"
      ]
     },
     "execution_count": 177,
     "metadata": {},
     "output_type": "execute_result"
    }
   ],
   "source": [
    "typeof([0 0])"
   ]
  },
  {
   "cell_type": "code",
   "execution_count": 188,
   "metadata": {},
   "outputs": [
    {
     "data": {
      "text/plain": [
       "update_Bellman (generic function with 2 methods)"
      ]
     },
     "execution_count": 188,
     "metadata": {},
     "output_type": "execute_result"
    }
   ],
   "source": [
    "function update_Bellman(PI::ProductionInventory, C::Vector)\n",
    "    c, k, pbar, rho, sigma, delta, spnodes = PI.c, PI.k, PI.pbar, PI.rho, PI.sigma, PI.delta, PI.spnodes\n",
    "    V_new = Vector{Float64}(size(spnodes)[1])\n",
    "    x_opt = Vector{Array}(size(spnodes)[1])\n",
    "\n",
    "    for i in 1:size(spnodes)[1]\n",
    "        objective(x:: Vector) = -(spnodes[i, :][2] * (spnodes[i, :][1] + x[1] - x[2]) - (c[1] * x[1] + 0.5 * c[2] * x[1]^2) - (k[1] * x[2] + 0.5 * k[2] * x[2]^2) + delta * dot(weight, [funeval(C, basis, [x[2], pbar + rho * (spnodes[i, :][2] - pbar) + epsilon[k]]) for k in 1:length(epsilon)]))\n",
    "        opt = optimize(objective, [0, 0], [0, 0], [1, 1], Fminbox{GradientDescent}(); iterations=2)\n",
    "        V_new[i]= -opt.minimum\n",
    "        x_opt[i] = opt.minimizer\n",
    "    end\n",
    "\n",
    "    C_new = Φ.vals[1] \\ V_new\n",
    "    \n",
    "    return C_new, x_opt\n",
    "end\n"
   ]
  },
  {
   "cell_type": "markdown",
   "metadata": {},
   "source": [
    "係数の初期値を設定。\n",
    "iterationの最大回数と、許容誤差を決める。"
   ]
  },
  {
   "cell_type": "code",
   "execution_count": 172,
   "metadata": {},
   "outputs": [],
   "source": [
    "C = initial_c\n",
    "tol = sqrt(eps())\n",
    "max_iter = 1\n",
    "C_error = 1.0\n",
    "i = 0;"
   ]
  },
  {
   "cell_type": "code",
   "execution_count": 189,
   "metadata": {},
   "outputs": [
    {
     "ename": "LoadError",
     "evalue": "\u001b[91mMethodError: no method matching optimize(::#objective#110{Array{Float64,1},Array{Float64,1},Array{Float64,1},Float64,Float64,Float64,Array{Float64,2}}, ::Array{Int64,1}, ::Array{Int64,1}, ::Array{Int64,1}, ::Optim.Fminbox{Optim.GradientDescent}; iterations=2)\u001b[0m\nClosest candidates are:\n  optimize(::Any, ::Any, ::Any, ::AbstractArray, ::Optim.Optimizer) at C:\\Users\\Hiroki\\.julia\\v0.6\\Optim\\src\\multivariate/optimize/interface.jl:76\u001b[91m got unsupported keyword argument \"iterations\"\u001b[39m\n  optimize(::Any, ::Any, ::Any, ::AbstractArray, ::Optim.Optimizer, \u001b[91m::Optim.Options\u001b[39m) at C:\\Users\\Hiroki\\.julia\\v0.6\\Optim\\src\\multivariate/optimize/interface.jl:76\u001b[91m got unsupported keyword argument \"iterations\"\u001b[39m\n  optimize(::Any, ::Any, ::Any, ::AbstractArray; kwargs...) at C:\\Users\\Hiroki\\.julia\\v0.6\\Optim\\src\\multivariate/optimize/interface.jl:56\n  ...\u001b[39m",
     "output_type": "error",
     "traceback": [
      "\u001b[91mMethodError: no method matching optimize(::#objective#110{Array{Float64,1},Array{Float64,1},Array{Float64,1},Float64,Float64,Float64,Array{Float64,2}}, ::Array{Int64,1}, ::Array{Int64,1}, ::Array{Int64,1}, ::Optim.Fminbox{Optim.GradientDescent}; iterations=2)\u001b[0m\nClosest candidates are:\n  optimize(::Any, ::Any, ::Any, ::AbstractArray, ::Optim.Optimizer) at C:\\Users\\Hiroki\\.julia\\v0.6\\Optim\\src\\multivariate/optimize/interface.jl:76\u001b[91m got unsupported keyword argument \"iterations\"\u001b[39m\n  optimize(::Any, ::Any, ::Any, ::AbstractArray, ::Optim.Optimizer, \u001b[91m::Optim.Options\u001b[39m) at C:\\Users\\Hiroki\\.julia\\v0.6\\Optim\\src\\multivariate/optimize/interface.jl:76\u001b[91m got unsupported keyword argument \"iterations\"\u001b[39m\n  optimize(::Any, ::Any, ::Any, ::AbstractArray; kwargs...) at C:\\Users\\Hiroki\\.julia\\v0.6\\Optim\\src\\multivariate/optimize/interface.jl:56\n  ...\u001b[39m",
      "",
      "Stacktrace:",
      " [1] \u001b[1mupdate_Bellman\u001b[22m\u001b[22m\u001b[1m(\u001b[22m\u001b[22m::ProductionInventory, ::Array{Float64,1}\u001b[1m)\u001b[22m\u001b[22m at \u001b[1m.\\In[188]:8\u001b[22m\u001b[22m",
      " [2] \u001b[1mmacro expansion\u001b[22m\u001b[22m at \u001b[1m.\\In[189]:2\u001b[22m\u001b[22m [inlined]",
      " [3] \u001b[1manonymous\u001b[22m\u001b[22m at \u001b[1m.\\<missing>:?\u001b[22m\u001b[22m",
      " [4] \u001b[1minclude_string\u001b[22m\u001b[22m\u001b[1m(\u001b[22m\u001b[22m::String, ::String\u001b[1m)\u001b[22m\u001b[22m at \u001b[1m.\\loading.jl:515\u001b[22m\u001b[22m"
     ]
    }
   ],
   "source": [
    "while C_error > tol && i <= max_iter\n",
    "    C_computed, x_opt = update_Bellman(PI, C)\n",
    "    C_error = maximum(abs, C_computed - C)\n",
    "    copy!(C, C_computed)\n",
    "    i += 1\n",
    "end\n",
    "\n",
    "i, C_error"
   ]
  },
  {
   "cell_type": "code",
   "execution_count": 164,
   "metadata": {},
   "outputs": [
    {
     "data": {
      "text/html": [
       "<div id=\"592c5960-a31d-407f-9039-3b6b97c4f43e\" class=\"plotly-graph-div\"></div>\n",
       "\n",
       "<script>\n",
       "    window.PLOTLYENV=window.PLOTLYENV || {};\n",
       "    window.PLOTLYENV.BASE_URL=\"https://plot.ly\";\n",
       "    require(['plotly'], function(Plotly) {\n",
       "        Plotly.newPlot('592c5960-a31d-407f-9039-3b6b97c4f43e', [{\"xaxis\":\"x\",\"colorbar\":{\"title\":\"\"},\"colorscale\":[[0.0,\"rgb(0, 0, 4)\"],[0.034482758620689655,\"rgb(4, 3, 20)\"],[0.06896551724137931,\"rgb(13, 8, 41)\"],[0.10344827586206896,\"rgb(24, 12, 60)\"],[0.13793103448275862,\"rgb(38, 12, 81)\"],[0.1724137931034483,\"rgb(54, 9, 97)\"],[0.20689655172413793,\"rgb(69, 10, 105)\"],[0.2413793103448276,\"rgb(84, 15, 109)\"],[0.27586206896551724,\"rgb(97, 19, 110)\"],[0.3103448275862069,\"rgb(111, 25, 110)\"],[0.3448275862068966,\"rgb(125, 30, 109)\"],[0.3793103448275862,\"rgb(140, 35, 105)\"],[0.41379310344827586,\"rgb(154, 40, 101)\"],[0.4482758620689655,\"rgb(166, 45, 96)\"],[0.4827586206896552,\"rgb(180, 51, 89)\"],[0.5172413793103449,\"rgb(193, 58, 80)\"],[0.5517241379310345,\"rgb(206, 67, 71)\"],[0.5862068965517241,\"rgb(216, 76, 62)\"],[0.6206896551724138,\"rgb(226, 87, 52)\"],[0.6551724137931034,\"rgb(235, 100, 41)\"],[0.6896551724137931,\"rgb(241, 115, 29)\"],[0.7241379310344828,\"rgb(247, 130, 18)\"],[0.7586206896551724,\"rgb(250, 144, 8)\"],[0.7931034482758621,\"rgb(252, 161, 8)\"],[0.8275862068965517,\"rgb(252, 178, 22)\"],[0.8620689655172413,\"rgb(250, 196, 42)\"],[0.896551724137931,\"rgb(246, 213, 67)\"],[0.9310344827586207,\"rgb(243, 229, 93)\"],[0.9655172413793104,\"rgb(242, 244, 130)\"],[1.0,\"rgb(252, 255, 164)\"]],\"yaxis\":\"y\",\"showscale\":true,\"x\":[0.0,0.09523809523809523,0.2857142857142857,0.5714285714285714,0.8571428571428571,1.1428571428571428,1.4285714285714286,1.7142857142857144,1.9047619047619049,2.0],\"showlegend\":false,\"name\":\"y1\",\"opacity\":null,\"z\":[[23.62804899695415,24.03042397086897,24.640286013792842,25.45763512743384,26.482471307259743,27.71479454542683,29.154604853542875,30.801902221980235,32.65668664963436,34.718958138967025],[23.73916010806526,24.16622644000477,24.800779840953336,25.642820312619023,26.692347850469623,27.94936244666139,29.41386411280212,31.085852839264184,32.965328624943,35.05229147230036],[23.85027121917637,24.30202890914058,24.961273668113826,25.82800549780421,26.902224393679504,28.18393034789597,29.673123372061394,31.36980345654814,33.27397060025164,35.3856248056337],[23.96138233028749,24.43783137827638,25.121767495274323,26.013190682989404,27.112100936889384,28.418498249130543,29.932382631320657,31.653754073832086,33.58261257556029,35.71895813896705],[24.072493441398603,24.573633847412175,25.28226132243482,26.19837586817459,27.32197748009926,28.6530661503651,30.191641890579906,31.937704691116046,33.89125455086893,36.05229147230037],[24.18360455250971,24.709436316547986,25.44275514959532,26.383561053359774,27.531854023309137,28.887634051599676,30.45090114983917,32.22165530839999,34.19989652617757,36.3856248056337],[24.29471566362082,24.845238785683787,25.60324897675581,26.568746238544954,27.741730566519003,29.12220195283424,30.71016040909842,32.50560592568393,34.508538501486214,36.718958138967025],[24.405826774731928,24.981041254819583,25.7637428039163,26.75393142373014,27.951607109728876,29.356769854068805,30.969419668357684,32.789556542967894,34.81718047679486,37.05229147230036],[24.516937885843035,25.116843723955384,25.92423663107679,26.93911660891532,28.161483652938752,29.59133775530337,31.228678927616937,33.073507160251836,35.1258224521035,37.38562480563369],[24.62804899695415,25.252646193091188,26.084730458237285,27.12430179410051,28.371360196148636,29.825905656537945,31.48793818687621,33.35745777753579,35.43446442741213,37.718958138967025]],\"y\":[0.5,0.5476190476190476,0.6428571428571428,0.7857142857142856,0.9285714285714284,1.0714285714285714,1.2142857142857144,1.3571428571428574,1.4523809523809526,1.5],\"type\":\"surface\"}],\n",
       "               {\"showlegend\":true,\"paper_bgcolor\":\"rgba(255, 255, 255, 1.000)\",\"annotations\":[],\"height\":400,\"margin\":{\"l\":0,\"b\":20,\"r\":0,\"t\":20},\"plot_bgcolor\":\"rgba(255, 255, 255, 1.000)\",\"legend\":{\"bordercolor\":\"rgba(0, 0, 0, 1.000)\",\"bgcolor\":\"rgba(255, 255, 255, 1.000)\",\"font\":{\"color\":\"rgba(0, 0, 0, 1.000)\",\"family\":\"sans-serif\",\"size\":11},\"y\":1.0,\"x\":1.0},\"scene\":{\"xaxis\":{\"gridwidth\":0.5,\"tickvals\":[0.0,0.5,1.0,1.5,2.0],\"visible\":true,\"ticks\":\"inside\",\"tickmode\":\"array\",\"domain\":[0.0658209390492855,0.9934383202099738],\"linecolor\":\"rgba(0, 0, 0, 1.000)\",\"showgrid\":true,\"title\":\"\",\"mirror\":false,\"tickangle\":0,\"showline\":true,\"gridcolor\":\"rgba(0, 0, 0, 0.100)\",\"titlefont\":{\"color\":\"rgba(0, 0, 0, 1.000)\",\"family\":\"sans-serif\",\"size\":15},\"tickcolor\":\"rgb(0, 0, 0)\",\"ticktext\":[\"0.0\",\"0.5\",\"1.0\",\"1.5\",\"2.0\"],\"zeroline\":false,\"type\":\"-\",\"tickfont\":{\"color\":\"rgba(0, 0, 0, 1.000)\",\"family\":\"sans-serif\",\"size\":11},\"zerolinecolor\":\"rgba(0, 0, 0, 1.000)\",\"anchor\":\"y\"},\"yaxis\":{\"gridwidth\":0.5,\"tickvals\":[0.5,0.75,1.0,1.25,1.5],\"visible\":true,\"ticks\":\"inside\",\"tickmode\":\"array\",\"domain\":[0.03762029746281716,0.9901574803149606],\"linecolor\":\"rgba(0, 0, 0, 1.000)\",\"showgrid\":true,\"title\":\"\",\"mirror\":false,\"tickangle\":0,\"showline\":true,\"gridcolor\":\"rgba(0, 0, 0, 0.100)\",\"titlefont\":{\"color\":\"rgba(0, 0, 0, 1.000)\",\"family\":\"sans-serif\",\"size\":15},\"tickcolor\":\"rgb(0, 0, 0)\",\"ticktext\":[\"0.50\",\"0.75\",\"1.00\",\"1.25\",\"1.50\"],\"zeroline\":false,\"type\":\"-\",\"tickfont\":{\"color\":\"rgba(0, 0, 0, 1.000)\",\"family\":\"sans-serif\",\"size\":11},\"zerolinecolor\":\"rgba(0, 0, 0, 1.000)\",\"anchor\":\"x\"},\"zaxis\":{\"gridwidth\":0.5,\"tickvals\":[24.0,26.0,28.0,30.0,32.0,34.0,36.0],\"visible\":true,\"ticks\":\"inside\",\"tickmode\":\"array\",\"linecolor\":\"rgba(0, 0, 0, 1.000)\",\"showgrid\":true,\"title\":\"\",\"mirror\":false,\"tickangle\":0,\"showline\":true,\"gridcolor\":\"rgba(0, 0, 0, 0.100)\",\"titlefont\":{\"color\":\"rgba(0, 0, 0, 1.000)\",\"family\":\"sans-serif\",\"size\":15},\"tickcolor\":\"rgb(0, 0, 0)\",\"ticktext\":[\"24\",\"26\",\"28\",\"30\",\"32\",\"34\",\"36\"],\"zeroline\":false,\"type\":\"-\",\"tickfont\":{\"color\":\"rgba(0, 0, 0, 1.000)\",\"family\":\"sans-serif\",\"size\":11},\"zerolinecolor\":\"rgba(0, 0, 0, 1.000)\"}},\"width\":600}, {showLink: false});\n",
       "\n",
       "    });\n",
       " </script>\n"
      ]
     },
     "execution_count": 164,
     "metadata": {},
     "output_type": "execute_result"
    }
   ],
   "source": [
    "gridsize = [10,10]\n",
    "grid1 = linspace(spmin[1],spmax[1],gridsize[1])\n",
    "grid2 = linspace(spmin[2],spmax[2],gridsize[2])\n",
    "grid = gridmake(grid1, grid2)\n",
    "\n",
    "x = s_vec\n",
    "y = p_vec\n",
    "z = reshape(funeval(C, basis, grid), 10, 10)\n",
    "\n",
    "Plots.surface(x, y, z)"
   ]
  },
  {
   "cell_type": "code",
   "execution_count": 163,
   "metadata": {},
   "outputs": [
    {
     "data": {
      "text/html": [
       "<div id=\"b62bbc67-8f5c-4df8-ae3f-06bef3a2f88f\" class=\"plotly-graph-div\"></div>\n",
       "\n",
       "<script>\n",
       "    window.PLOTLYENV=window.PLOTLYENV || {};\n",
       "    window.PLOTLYENV.BASE_URL=\"https://plot.ly\";\n",
       "    require(['plotly'], function(Plotly) {\n",
       "        Plotly.newPlot('b62bbc67-8f5c-4df8-ae3f-06bef3a2f88f', [{\"xaxis\":\"x\",\"colorbar\":{\"title\":\"\"},\"colorscale\":[[0.0,\"rgb(0, 0, 4)\"],[0.034482758620689655,\"rgb(4, 3, 20)\"],[0.06896551724137931,\"rgb(13, 8, 41)\"],[0.10344827586206896,\"rgb(24, 12, 60)\"],[0.13793103448275862,\"rgb(38, 12, 81)\"],[0.1724137931034483,\"rgb(54, 9, 97)\"],[0.20689655172413793,\"rgb(69, 10, 105)\"],[0.2413793103448276,\"rgb(84, 15, 109)\"],[0.27586206896551724,\"rgb(97, 19, 110)\"],[0.3103448275862069,\"rgb(111, 25, 110)\"],[0.3448275862068966,\"rgb(125, 30, 109)\"],[0.3793103448275862,\"rgb(140, 35, 105)\"],[0.41379310344827586,\"rgb(154, 40, 101)\"],[0.4482758620689655,\"rgb(166, 45, 96)\"],[0.4827586206896552,\"rgb(180, 51, 89)\"],[0.5172413793103449,\"rgb(193, 58, 80)\"],[0.5517241379310345,\"rgb(206, 67, 71)\"],[0.5862068965517241,\"rgb(216, 76, 62)\"],[0.6206896551724138,\"rgb(226, 87, 52)\"],[0.6551724137931034,\"rgb(235, 100, 41)\"],[0.6896551724137931,\"rgb(241, 115, 29)\"],[0.7241379310344828,\"rgb(247, 130, 18)\"],[0.7586206896551724,\"rgb(250, 144, 8)\"],[0.7931034482758621,\"rgb(252, 161, 8)\"],[0.8275862068965517,\"rgb(252, 178, 22)\"],[0.8620689655172413,\"rgb(250, 196, 42)\"],[0.896551724137931,\"rgb(246, 213, 67)\"],[0.9310344827586207,\"rgb(243, 229, 93)\"],[0.9655172413793104,\"rgb(242, 244, 130)\"],[1.0,\"rgb(252, 255, 164)\"]],\"yaxis\":\"y\",\"showscale\":true,\"x\":[0.0,0.09523809523809523,0.2857142857142857,0.5714285714285714,0.8571428571428571,1.1428571428571428,1.4285714285714286,1.7142857142857144,1.9047619047619049,2.0],\"showlegend\":false,\"name\":\"y1\",\"opacity\":null,\"z\":[[0.7498557204380629,0.7498557204380629,0.7498557204380629,0.7498557204380629,0.7498557204380629,0.7498557204380629,0.7498557204380629,0.7498557204380629,0.7498557204380629,0.7498557204380629],[0.4881608963012697,0.4881608963012697,0.4881608963012697,0.4881608963012697,0.4881608963012697,0.4881608963012697,0.4881608963012697,0.4881608963012697,0.4881608963012697,0.4881608963012697],[-0.03568347460270669,-0.03568347460270669,-0.03568347460270669,-0.03568347460270669,-0.03568347460270669,-0.03568347460270669,-0.03568347460270669,-0.03568347460270669,-0.03568347460270669,-0.03568347460270669],[-0.8215852892865481,-0.8215852892865481,-0.8215852892865481,-0.8215852892865481,-0.8215852892865481,-0.8215852892865481,-0.8215852892865481,-0.8215852892865481,-0.8215852892865481,-0.8215852892865481],[-1.6071286183025384,-1.6071286183025384,-1.6071286183025384,-1.6071286183025384,-1.6071286183025384,-1.6071286183025384,-1.6071286183025384,-1.6071286183025384,-1.6071286183025384,-1.6071286183025384],[-2.3926479398692044,-2.3926479398692044,-2.3926479398692044,-2.3926479398692044,-2.3926479398692044,-2.3926479398692044,-2.3926479398692044,-2.3926479398692044,-2.3926479398692044,-2.3926479398692044],[-3.178941692680258,-3.178941692680258,-3.178941692680258,-3.178941692680258,-3.178941692680258,-3.178941692680258,-3.178941692680258,-3.178941692680258,-3.178941692680258,-3.178941692680258],[-3.9639054306574,-3.9639054306574,-3.9639054306574,-3.9639054306574,-3.9639054306574,-3.9639054306574,-3.9639054306574,-3.9639054306574,-3.9639054306574,-3.9639054306574],[-4.487917233347865,-4.487917233347865,-4.487917233347865,-4.487917233347865,-4.487917233347865,-4.487917233347865,-4.487917233347865,-4.487917233347865,-4.487917233347865,-4.487917233347865],[-4.750168816123285,-4.750168816123285,-4.750168816123285,-4.750168816123285,-4.750168816123285,-4.750168816123285,-4.750168816123285,-4.750168816123285,-4.750168816123285,-4.750168816123285]],\"y\":[0.5,0.5476190476190476,0.6428571428571428,0.7857142857142856,0.9285714285714284,1.0714285714285714,1.2142857142857144,1.3571428571428574,1.4523809523809526,1.5],\"type\":\"surface\"}],\n",
       "               {\"showlegend\":true,\"paper_bgcolor\":\"rgba(255, 255, 255, 1.000)\",\"annotations\":[],\"height\":400,\"margin\":{\"l\":0,\"b\":20,\"r\":0,\"t\":20},\"plot_bgcolor\":\"rgba(255, 255, 255, 1.000)\",\"legend\":{\"bordercolor\":\"rgba(0, 0, 0, 1.000)\",\"bgcolor\":\"rgba(255, 255, 255, 1.000)\",\"font\":{\"color\":\"rgba(0, 0, 0, 1.000)\",\"family\":\"sans-serif\",\"size\":11},\"y\":1.0,\"x\":1.0},\"scene\":{\"xaxis\":{\"gridwidth\":0.5,\"tickvals\":[0.0,0.5,1.0,1.5,2.0],\"visible\":true,\"ticks\":\"inside\",\"tickmode\":\"array\",\"domain\":[0.0658209390492855,0.9934383202099738],\"linecolor\":\"rgba(0, 0, 0, 1.000)\",\"showgrid\":true,\"title\":\"\",\"mirror\":false,\"tickangle\":0,\"showline\":true,\"gridcolor\":\"rgba(0, 0, 0, 0.100)\",\"titlefont\":{\"color\":\"rgba(0, 0, 0, 1.000)\",\"family\":\"sans-serif\",\"size\":15},\"tickcolor\":\"rgb(0, 0, 0)\",\"ticktext\":[\"0.0\",\"0.5\",\"1.0\",\"1.5\",\"2.0\"],\"zeroline\":false,\"type\":\"-\",\"tickfont\":{\"color\":\"rgba(0, 0, 0, 1.000)\",\"family\":\"sans-serif\",\"size\":11},\"zerolinecolor\":\"rgba(0, 0, 0, 1.000)\",\"anchor\":\"y\"},\"yaxis\":{\"gridwidth\":0.5,\"tickvals\":[0.5,0.75,1.0,1.25,1.5],\"visible\":true,\"ticks\":\"inside\",\"tickmode\":\"array\",\"domain\":[0.03762029746281716,0.9901574803149606],\"linecolor\":\"rgba(0, 0, 0, 1.000)\",\"showgrid\":true,\"title\":\"\",\"mirror\":false,\"tickangle\":0,\"showline\":true,\"gridcolor\":\"rgba(0, 0, 0, 0.100)\",\"titlefont\":{\"color\":\"rgba(0, 0, 0, 1.000)\",\"family\":\"sans-serif\",\"size\":15},\"tickcolor\":\"rgb(0, 0, 0)\",\"ticktext\":[\"0.50\",\"0.75\",\"1.00\",\"1.25\",\"1.50\"],\"zeroline\":false,\"type\":\"-\",\"tickfont\":{\"color\":\"rgba(0, 0, 0, 1.000)\",\"family\":\"sans-serif\",\"size\":11},\"zerolinecolor\":\"rgba(0, 0, 0, 1.000)\",\"anchor\":\"x\"},\"zaxis\":{\"gridwidth\":0.5,\"tickvals\":[-4.0,-3.0,-2.0,-1.0,0.0],\"visible\":true,\"ticks\":\"inside\",\"tickmode\":\"array\",\"linecolor\":\"rgba(0, 0, 0, 1.000)\",\"showgrid\":true,\"title\":\"\",\"mirror\":false,\"tickangle\":0,\"showline\":true,\"gridcolor\":\"rgba(0, 0, 0, 0.100)\",\"titlefont\":{\"color\":\"rgba(0, 0, 0, 1.000)\",\"family\":\"sans-serif\",\"size\":15},\"tickcolor\":\"rgb(0, 0, 0)\",\"ticktext\":[\"-4\",\"-3\",\"-2\",\"-1\",\"0\"],\"zeroline\":false,\"type\":\"-\",\"tickfont\":{\"color\":\"rgba(0, 0, 0, 1.000)\",\"family\":\"sans-serif\",\"size\":11},\"zerolinecolor\":\"rgba(0, 0, 0, 1.000)\"}},\"width\":600}, {showLink: false});\n",
       "\n",
       "    });\n",
       " </script>\n"
      ]
     },
     "execution_count": 163,
     "metadata": {},
     "output_type": "execute_result"
    }
   ],
   "source": [
    "x_vec=zeros(100)\n",
    "for i in 1:100\n",
    "    x_vec[i] = x_opt[i][2]\n",
    "end\n",
    "\n",
    "x = s_vec\n",
    "y = p_vec\n",
    "z = reshape(x_vec, 10, 10)\n",
    "\n",
    "Plots.surface(x, y, z')"
   ]
  },
  {
   "cell_type": "code",
   "execution_count": null,
   "metadata": {
    "collapsed": true
   },
   "outputs": [],
   "source": []
  }
 ],
 "metadata": {
  "kernelspec": {
   "display_name": "Julia 0.6.0",
   "language": "julia",
   "name": "julia-0.6"
  },
  "language_info": {
   "file_extension": ".jl",
   "mimetype": "application/julia",
   "name": "julia",
   "version": "0.6.0"
  }
 },
 "nbformat": 4,
 "nbformat_minor": 2
}
